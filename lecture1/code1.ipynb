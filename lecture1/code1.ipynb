{
 "cells": [
  {
   "cell_type": "markdown",
   "metadata": {},
   "source": [
    "Given a function $f$ and a starting point $x_0$, this code performs the iteration\n",
    "\n",
    "$$\n",
    "x_{k} = f(x_{k-1})  \\;\\text{for}\\; k = 1,..,nt\n",
    "$$\n",
    "\n",
    "The code also plots $f$ on $[a,b]$ using $n$ points."
   ]
  },
  {
   "cell_type": "code",
   "execution_count": 1,
   "metadata": {},
   "outputs": [],
   "source": [
    "from numpy import linspace,zeros,sqrt\n",
    "from matplotlib.pyplot import figure,plot,axis,show,savefig"
   ]
  },
  {
   "cell_type": "code",
   "execution_count": 2,
   "metadata": {},
   "outputs": [],
   "source": [
    "# Parameters\n",
    "f = lambda x: 0.5*(x + 2/x)\n",
    "x0 = 1\n",
    "nt = 7\n",
    "a = 1\n",
    "b = 2\n",
    "n = 1000"
   ]
  },
  {
   "cell_type": "code",
   "execution_count": 3,
   "metadata": {},
   "outputs": [],
   "source": [
    "# Allocate \n",
    "x = linspace(a, b, n);\n",
    "err = zeros((nt+1, 1));"
   ]
  },
  {
   "cell_type": "code",
   "execution_count": 4,
   "metadata": {},
   "outputs": [
    {
     "name": "stdout",
     "output_type": "stream",
     "text": [
      "[[4.14213562e-01]\n",
      " [8.57864376e-02]\n",
      " [2.45310429e-03]\n",
      " [2.12390141e-06]\n",
      " [1.59472435e-12]\n",
      " [2.22044605e-16]\n",
      " [2.22044605e-16]\n",
      " [2.22044605e-16]]\n"
     ]
    },
    {
     "data": {
      "image/png": "[encoded data removed]",
      "text/plain": [
       "<Figure size 432x288 with 1 Axes>"
      ]
     },
     "metadata": {
      "needs_background": "light"
     },
     "output_type": "display_data"
    }
   ],
   "source": [
    "# Plot function\n",
    "figure\n",
    "plot(x, f(x), 'k-', linewidth=2)\n",
    "plot(x, x, 'k--')\n",
    "axis('square')\n",
    "\n",
    "# Save plot for latex\n",
    "savefig('fig_python.eps', format='eps')\n",
    "\n",
    "# Iteration\n",
    "for k in range(nt):\n",
    "    err[k, 0] = abs(sqrt(2) - x0)\n",
    "    x0 = f(x0)\n",
    "\n",
    "err[nt, 0] = abs(sqrt(2) - x0)\n",
    "\n",
    "print(err)\n",
    "show()"
   ]
  }
 ],
 "metadata": {
  "kernelspec": {
   "display_name": "Python [conda env:py37_pytorch]",
   "language": "python",
   "name": "conda-env-py37_pytorch-py"
  },
  "language_info": {
   "codemirror_mode": {
    "name": "ipython",
    "version": 3
   },
   "file_extension": ".py",
   "mimetype": "text/x-python",
   "name": "python",
   "nbconvert_exporter": "python",
   "pygments_lexer": "ipython3",
   "version": "3.7.7"
  }
 },
 "nbformat": 4,
 "nbformat_minor": 4
}
